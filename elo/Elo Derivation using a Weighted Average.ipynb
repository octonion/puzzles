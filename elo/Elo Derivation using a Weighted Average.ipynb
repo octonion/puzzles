{
 "cells": [
  {
   "cell_type": "markdown",
   "metadata": {},
   "source": [
    "# A Derivaton of Elo's Rating System from a Weighted Expectation Average"
   ]
  },
  {
   "cell_type": "markdown",
   "metadata": {},
   "source": [
    "Arpad Elo's rating system, most famously applied to chess, is commonly used and described, but rarely explained in the sense of a derivation. Here's one possible (and hopefully insightful) derivation using a weighted average between the expected and actual outcomes."
   ]
  },
  {
   "cell_type": "markdown",
   "metadata": {},
   "source": [
    "Say we have a function that gives us the expected outcome between players with ratings $R_1$ and $R_2$. Furthermore, suppose that this function $f$ only depends on the difference $R_1-R_2$; i.e. $E = f(R_1-R_2)$ gives us the expected score (from the perspective of player 1) between players with ratings $R_1$ and $R_2$. Now say we observe the outcome of a match between these two players, and player 1 scores $S$. If $S > E$, it's reasonable to guess that player 1 is probably stronger than $R_1$, and player 2 is probably weaker than $R_2$; if $S < E$, the opposite is likely true. Of course, of $S = E$, we're not at all surprised by the outcome, and satisfied by the ratings."
   ]
  },
  {
   "cell_type": "markdown",
   "metadata": {},
   "source": [
    "How should be adjust $R_1$ and $R_2$ when we're suprised (perhaps only slightly) by the outcome? Let's make the additional assumption that whatever change occurs to $R_1$, an equal but opposite change is made to $R_2$. That is, if $R_1'$ and $R_2'$ are the new adjusted ratings, $R_1 + R_2 = R_1' + R_2'$. If $R_1' = R_1 + d$, this means that $R_2' = R_2-d$."
   ]
  },
  {
   "cell_type": "markdown",
   "metadata": {},
   "source": [
    "A reasonable idea is that the new expected outcome should be somewhere between the observed outcome and our initial expected outcome. Mathematically, we can write this statement as $$f(R_1+d-(R_2-d)) = w S + (1-w) f(R_1-R_2).$$ We now approximate the left side linearly, and so $$f(R_1-R_2+2d) \\approx f(R_1-R_2) + f'(R_1-R_2) (2d).$$ This gives us the equation $$ d = \\frac{w}{2f'(R_1-R_2)} (S-E),$$ which is precisely Elo's original updating function, assuming $f'(R_1-R_2)$ is approximately a constant, which is reasonable so long as players tend to play those of a similar strength."
   ]
  },
  {
   "cell_type": "code",
   "execution_count": null,
   "metadata": {},
   "outputs": [],
   "source": []
  }
 ],
 "metadata": {
  "kernelspec": {
   "display_name": "Python 3",
   "language": "python",
   "name": "python3"
  },
  "language_info": {
   "codemirror_mode": {
    "name": "ipython",
    "version": 3
   },
   "file_extension": ".py",
   "mimetype": "text/x-python",
   "name": "python",
   "nbconvert_exporter": "python",
   "pygments_lexer": "ipython3",
   "version": "3.6.9"
  }
 },
 "nbformat": 4,
 "nbformat_minor": 2
}
